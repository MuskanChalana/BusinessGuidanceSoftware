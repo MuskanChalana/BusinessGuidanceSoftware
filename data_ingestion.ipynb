{
 "cells": [
  {
   "metadata": {
    "ExecuteTime": {
     "end_time": "2024-08-01T15:09:13.016344Z",
     "start_time": "2024-08-01T15:09:12.986706Z"
    }
   },
   "cell_type": "code",
   "source": [
    "from langchain.document_loaders import PyPDFLoader\n",
    "from langchain.text_splitter import CharacterTextSplitter\n",
    "from langchain_community.embeddings import OllamaEmbeddings\n",
    "\n",
    "import os"
   ],
   "id": "ec97ff07806ca58c",
   "outputs": [],
   "execution_count": 12
  },
  {
   "metadata": {},
   "cell_type": "markdown",
   "source": "#### Load Data from books",
   "id": "505beeacffbd50dc"
  },
  {
   "metadata": {
    "ExecuteTime": {
     "end_time": "2024-08-01T15:54:11.650471Z",
     "start_time": "2024-08-01T15:38:38.152148Z"
    }
   },
   "cell_type": "code",
   "source": [
    "from langchain_community.vectorstores import FAISS\n",
    "\n",
    "pdf_folder_path = \"/Users/harsh_dadwal/Harsh/coding/Hack4skill/Govt_policy_RAG/data\"\n",
    "documents = []\n",
    "i=1\n",
    "for file in os.listdir(pdf_folder_path):\n",
    "    if file.endswith('.pdf'):\n",
    "        pdf_path = os.path.join(pdf_folder_path, file)\n",
    "        loader = PyPDFLoader(pdf_path)\n",
    "        documents.extend(loader.load())\n",
    "        print(i)\n",
    "        i+=1\n",
    "text_splitter = CharacterTextSplitter(chunk_size=1000, chunk_overlap=10)\n",
    "chunked_documents = text_splitter.split_documents(documents)\n",
    "vectordb = FAISS.from_documents(chunked_documents,OllamaEmbeddings(model='mxbai-embed-large'))\n",
    "vectordb.save_local(\"./vectordb\",'vector_store')"
   ],
   "id": "aff51c131bafa015",
   "outputs": [
    {
     "name": "stdout",
     "output_type": "stream",
     "text": [
      "1\n",
      "2\n",
      "3\n",
      "4\n",
      "5\n",
      "6\n",
      "7\n",
      "8\n",
      "9\n",
      "10\n",
      "11\n",
      "12\n",
      "13\n",
      "14\n",
      "15\n",
      "16\n",
      "17\n",
      "18\n",
      "19\n",
      "20\n",
      "21\n",
      "22\n",
      "23\n",
      "24\n",
      "25\n",
      "26\n",
      "27\n",
      "28\n",
      "29\n",
      "30\n",
      "31\n",
      "32\n",
      "33\n",
      "34\n",
      "35\n",
      "36\n",
      "37\n",
      "38\n",
      "39\n",
      "40\n",
      "41\n",
      "42\n",
      "43\n",
      "44\n",
      "45\n",
      "46\n",
      "47\n",
      "48\n",
      "49\n",
      "50\n",
      "51\n",
      "52\n",
      "53\n",
      "54\n",
      "55\n",
      "56\n",
      "57\n",
      "58\n",
      "59\n",
      "60\n"
     ]
    },
    {
     "name": "stderr",
     "output_type": "stream",
     "text": [
      "Ignoring wrong pointing object 40 0 (offset 0)\n",
      "Ignoring wrong pointing object 131 0 (offset 0)\n",
      "Ignoring wrong pointing object 164 0 (offset 0)\n",
      "Ignoring wrong pointing object 174 0 (offset 0)\n",
      "Ignoring wrong pointing object 177 0 (offset 0)\n"
     ]
    },
    {
     "name": "stdout",
     "output_type": "stream",
     "text": [
      "61\n",
      "62\n",
      "63\n",
      "64\n",
      "65\n",
      "66\n",
      "67\n",
      "68\n",
      "69\n",
      "70\n",
      "71\n",
      "72\n",
      "73\n",
      "74\n",
      "75\n",
      "76\n",
      "77\n",
      "78\n",
      "79\n",
      "80\n",
      "81\n",
      "82\n",
      "83\n",
      "84\n",
      "85\n",
      "86\n",
      "87\n",
      "88\n"
     ]
    }
   ],
   "execution_count": 26
  },
  {
   "metadata": {
    "ExecuteTime": {
     "end_time": "2024-08-01T15:58:00.205539Z",
     "start_time": "2024-08-01T15:57:59.030451Z"
    }
   },
   "cell_type": "code",
   "source": [
    "query = \"Best way to grow a business?\"\n",
    "docs = vectordb.similarity_search_with_score(query,top_k=5)\n",
    "print(type(docs[0][0]))\n",
    "for doc in docs:\n",
    "    print(f'''{doc[0].page_content} : Score={doc[1]} \\n''')"
   ],
   "id": "bb95c4e9f02178ed",
   "outputs": [
    {
     "name": "stdout",
     "output_type": "stream",
     "text": [
      "<class 'langchain_core.documents.base.Document'>\n",
      "173\n",
      "SOURCES OF BUSINESS FINANCE\n",
      "8.1 i ntro duction\n",
      "This chapter provides an overview of \n",
      "the various sources from where funds \n",
      "can be procured for starting as also for \n",
      "running \ta\tbusiness. \tIt\talso\tdiscusses \t\n",
      "the advantages and limitations of various sources and points out the factors that determine the choice of a \n",
      "suitable \tsource\tof\tbusiness \tfinance.\n",
      "It\tis\timportant \tfor\tany\tperson\twho\t\n",
      "wants to start a business to know about the different sources from \n",
      "where\tmoney\tcan\tbe\traised.\tIt\tis\talso\t\n",
      "important to know the relative merits and demerits of different sources so that choice of an appropriate source \n",
      "can\tbe\tmade.\n",
      "8.2 Meaning , nature and Significance  \n",
      "of BuSineSS  finance\n",
      "Business is concerned with the \n",
      "production and distribution of goods and services for the satisfaction of needs\tof\tsociety. \tFor\tcarrying \tout\t\n",
      "various activities, business requires \n",
      "money.\tFinance, \ttherefore, \tis\tcalled\tthe \n",
      "life\tblood\tof\tany\tbusiness. \tThe\t\n",
      "requirements of funds by business to \n",
      "carry out its various activities is called \n",
      "business \tfinance. \t\n",
      "A business cannot function unless \n",
      "adequate funds are made available to \n",
      "it.\tThe\tinitial\tcapital\tcontributed \tby\tthe\t\n",
      "entrepreneur \tis\tnot\talways\tsufficient \tto\t\n",
      "take\tcare\tof\tall\tfinancial \trequirements \t\n",
      "of\tthe\tbusiness. \tA\tbusiness \tperson,\t\n",
      "therefore, has to look for different other sources from where the need for funds \n",
      "can\tbe\tmet.\tA\tclear\tassessment \tof\tthe\t\n",
      "financial \tneeds\tand\tthe\tidentification \t\n",
      "of\tvarious\tsources\tof\tfinance, \ttherefore, \t\n",
      "is\ta\tsignificant \taspect\tof\trunning \ta\t\n",
      "business \torganisation. \t\n",
      "The need for funds arises from the \n",
      "stage when an entrepreneur makes \n",
      "a\tdecision \tto\tstart\ta\tbusiness. \tSome\t\n",
      "funds are n eeded immediately say for Mr.\tAnil\tSingh\thas\tbeen\trunning \ta\trestaurant \tfor\tthe\tlast\ttwo\tyears.\tThe\texcellent \t\n",
      "quality\tof\tfood\thas\tmade\tthe\trestaurant \tpopular\tin\tno\ttime.\tMotivated \tby\tthe\tsuccess\t\n",
      "of\this\tbusiness, \tMr.\tSingh\tis\tnow\tcontemplating \tthe\tidea\tof\topening \ta\tchain\tof\t\n",
      "similar\trestaurants \tat\tdifferent \tplaces.\tHowever, \tthe\tmoney\tavailable \twith\thim\tfrom\t\n",
      "his\tpersonal \tsources \tis\tnot\tsufficient \tto\tmeet\tthe\texpansion \trequirements \tof\this\t\n",
      "business. \tHis\tfather\ttold\thim\tthat\the\tcan\tenter\tinto\ta\tpartnership \twith\tthe\towner\tof\t\n",
      "another restaurant, who will bring in more funds but it would also require sharing \n",
      "of\tprofits\tand\tcontrol\tof\tbusiness. \tHe\tis\talso\tthinking \tof\tgetting\ta\tbank\tloan.\tHe\t\n",
      "is worried and confused, as he has no idea as to how and from where he should \n",
      "obtain\tadditional \tfunds.\tHe\tdiscusses \tthe\tproblem \twith\this\tfriend\tRamesh, \twho\t\n",
      "tells him about some other methods like issue of shares and debentures, which \n",
      "are\tavailable \tonly\tto\ta\tcompany \tform\tof\torganisation. \tHe\tfurther\tcautions \thim\tthat\t\n",
      "each\tmethod\thas\tits\town\tadvantages \tand\tlimitations \tand\this\tfinal\tchoice\tshould\t\n",
      "be\tbased\ton\tfactors\tlike\tthe\tpurpose \tand\tperiod\tfor\twhich\tfunds\tare\trequired. \tHe\t\n",
      "wants\tto\tlearn\tabout\tthese\tmethods.\n",
      "Chapter 8.indd   173 9/2/2022   2:14:08 PM\n",
      "2024-25 : Score=225.2281951904297 \n",
      "\n",
      "247\n",
      "INTERNATIONAL BUSINESS\n",
      "11.1 IntroductIon\n",
      "Countries all over the world are \n",
      "undergoing a fundamental shift in \n",
      "the way they produce and market various products and services. The national economies which so far were pursuing the goal of self-reliance are now becoming increasingly dependent upon others for procuring as well as supplying various kinds of goods and services. Due to increased cross border trade and investments, countries are no more isolated.The prime reason behind this \n",
      "radical change is the development  \n",
      "of communication, technology, \n",
      "infrastructure etc. Emergence of newer modes of communication and development of faster and more \n",
      "efficient \tmeans\tof\ttransportation \thave\t\n",
      "brought nations closer to one another. Countries that were cut-off from one another due to geographical distances and socio-economic differences have now started increasingly interacting with others. World Trade Organisation (WTO) and reforms carried out by the Mr. Sudhir Manchanda is a small manufacturer of automobile components. His \n",
      "factory is located in Gurgaon and employs about 55 workers with an investment of Rs. 9.2 million in plant and machinery. Due to recession in the domestic market, he foresees prospects of his sales going up in the next few years in the domestic market. He is exploring the possibility of going international. Some of his competitors are already in export business. A casual talk with one of his close friends in the tyre business reveals that there is a substantial market for automobile components and accessories in South-East Asia and Middle East. But his friend also tells him, “Doing business internationally is not the same as carrying out business within the home country. International business is more complex as one has to operate under market conditions that are different from those that one faces in domestic business”. Mr. Manchanda is, moreover, not sure as to how he should go about setting up international business. Should he himself identify and contact some overseas customers and start exporting directly to them or else route his products through export houses which specialise in exporting products made by others? \n",
      "Mr. Manchanda’s son who has just returned after an MBA in USA suggests that \n",
      "they should set up a fully owned factory in Bangkok for supplying to customers in South-East Asia and Middle East. Setting up a manufacturing plant there will help them save costs of transporting goods from India. This would also help them \n",
      "coming\tcloser\tto\tthe\toverseas \tcustomers. \tMr.\tManchanda \tis\tin\ta\tfix\tas\tto\twhat\tto\t\n",
      "do.\tIn\tthe\tface\tof\tdifficulties \tinvolved \tin\toverseas \tventures \tas\tpointed\tout\tby\this\t\n",
      "friend, he is wondering about the desirability of entering into global business. He is also not sure as to what the different ways of entering into international market are and which one will best suit his purpose.\n",
      "Chapter 11.indd   247 9/2/2022   2:24:10 PM\n",
      "2024-25 : Score=239.14898681640625 \n",
      "\n",
      "22\n",
      "BUSINESS   STUDIES\n",
      " (ii) Size of business: Size of the \n",
      "firm or scale of its operation \n",
      "is another important decision to be taken at the start of the business. Whether the business is for MSME sector or a large scale enterprise. Whether it will operate for manufacturing or tertiary sector. Some factors favour a large size, whereas, others tend to restrict the scale of operation. If the entrepreneur is confident that the demand for the proposed product is likely to be good over time and he/she can arrange the necessary capital for business, he/she can start the operation at a large scale. \n",
      "(iii) Location of business enterprise: \n",
      "An important factor to be considered at the start of the business is the place where the enterprise will be located. Any mistake in this regard can result in high cost of production, inconvenience in getting, right kind of production inputs or serving the customers in the best possible way. Availability of raw materials and labour; power supply and services, like banking, transportation, communication, warehousing, etc., are important factors while making a choice of location.\n",
      " (iv) Financing the proposition: \n",
      "Financing is concerned with providing the necessary  capital for starting, as well as, for continuing the proposed business. Capital is required \n",
      "for investment in fixed assets, like land, building, machinery and equipment and in current assets, like raw materials, books, debts, stock of finished goods, etc. Capital is also required for meeting day-to-day expenses. \n",
      " (v) Physical facilities: Availability \n",
      "of physical facilities, including machines and equipment, building and supportive services is an important factor to be considered at the start of the business. The decision relating to this factor will depend on the nature and size of business, availability of funds and the process of production.\n",
      " (vi) Competent and committed \n",
      "worked force: Every enterprise needs competent and committed workforce to perform various activities so that physical and financial resources are converted into desired outputs. Since no individual entrepreneur can do everything himself, he/she must identify the requirement of skilled and unskilled workers and managerial staff. Plans should also be made about how the employees will be trained and motivated to give their best performance.\n",
      " (vii) Tax planning: Tax planning has \n",
      "become necessary these days because there are a number of tax laws in the country and they influence almost every aspect \n",
      "Chapter 1 .indd   22 13-01-2021   09:40:08\n",
      "2024-25 : Score=241.62718200683594 \n",
      "\n",
      "Financial ManageMents\n",
      "227\n",
      "BUsiness  st UDies\n",
      "226\n",
      "the company in preparing for the \n",
      "future.\n",
      " (iii) If helps in co-ordinating various\n",
      " \n",
      "business functions, e.g., sales and production functions, by providing clear policies and procedures.\n",
      " (iv) Detailed plans of action prepared under \n",
      "financial planning reduce \n",
      "waste, duplication of efforts, and gaps in planning.\n",
      " (v) It tries to link the \n",
      "present with the \n",
      "future. (vi) It provides a link between invest\n",
      "ment and financing decisions \n",
      "on a continuous basis.\n",
      " (vii) By spelli\n",
      "ng out detailed objectives \n",
      "for various business segments, it makes the evaluation of actual performance easier.\n",
      "caPital  Structure\n",
      "One of the important decisions under financial management relates to the financing pattern or the proportion of Cutting Back on Debt\n",
      "Even successful businesses have debt, but how much is too much? Learning how \n",
      "to manage debt is what can put you ahead.\n",
      "Taking on the right amount of debt can mean the difference between a business \n",
      "struggling to survive and one that can respond nimbly to changing economic or market conditions. A number of circumstances may justify acquiring debt. As a general rule, borrowing makes the most sense when you need to bolster cash flow or finance growth or expansion. But while debt can provide the leverage you need to grow, too much debt can strangle your business. So the question is: How much debt is too much?\n",
      "The answer, experts say, lies in a careful analysis of your cash flow as well as \n",
      "your industry. A business that doesn’t grow dies. You’ve got to grow, but you’ve got to grow within the financial constraints of your business. What is the ideal capital structure a business needs in its industry to remain viable? The higher the volatility (in your industry), the less debt you should have. The smaller the volatility, the more debt you can afford.\n",
      "Although banks and other financial institutions look for a satisfactory debt-to-\n",
      "equity ratio before agreeing to make a loan, don’t assume a creditor’s willingness to extend funds is evidence that your business is in a strong debt position. Some financial institutions are overzealous lenders, particularly when trying to lure or hold on to promising business customers. “The bank may be looking more at collateral than whether the (business’s) earnings are going to come in to justify the debt service.\n",
      "To avoid these and other credit pitfalls, it’s up to you to get the financial facts \n",
      "on your business and make sound borrowing decisions. Unfortunately, many entrepreneurs fail to recognise how important financial analysis is to running a successful business. Even business owners who receive detailed financial statements from their accountants often do not take advantage of the valuable information contained in the documents.\n",
      "Ch_9.indd   226 1/23/2024   03:51:22 PM\n",
      "2024-25 : Score=248.94482421875 \n",
      "\n"
     ]
    }
   ],
   "execution_count": 27
  },
  {
   "metadata": {
    "ExecuteTime": {
     "end_time": "2024-08-01T16:00:13.552617Z",
     "start_time": "2024-08-01T16:00:13.491836Z"
    }
   },
   "cell_type": "code",
   "source": [
    "from langchain_community.llms.ollama import Ollama\n",
    "\n",
    "embedding=OllamaEmbeddings(model='mxbai-embed-large')\n",
    "db=FAISS.load_local(folder_path=\"./vectordb\",index_name=\"vector_store\",embeddings=embedding,allow_dangerous_deserialization=True)\n",
    "llm = Ollama(\n",
    "    model=\"phi3:mini\"\n",
    ") "
   ],
   "id": "5502e8ab5a1dda8f",
   "outputs": [],
   "execution_count": 28
  },
  {
   "metadata": {
    "ExecuteTime": {
     "end_time": "2024-08-01T16:23:01.026454Z",
     "start_time": "2024-08-01T16:23:01.016650Z"
    }
   },
   "cell_type": "code",
   "source": [
    "from langchain_core.prompts import ChatPromptTemplate\n",
    "\n",
    "prompt = ChatPromptTemplate.from_template(\n",
    "    \"\"\"\n",
    "            <|system|>\n",
    "            You are a helpful Business Advisor that assists small scale business owners with their queries.<|end|>\n",
    "            <|user|>\n",
    "            Answer the following question as simply as possible based on the given context ONLY if it is RELEVANT to the Question in less than 100 words if it is IRRELEVANT tell me I don't know.\n",
    "            Do not mention the context in the answer just use it as a knowledge base\n",
    "            {context}\n",
    "            Question:\n",
    "            {input}\n",
    "            <|end|>\n",
    "            <|assistant|>\n",
    "\n",
    "\"\"\"\n",
    ")"
   ],
   "id": "8f059e7df9fe1c9d",
   "outputs": [],
   "execution_count": 39
  },
  {
   "metadata": {
    "ExecuteTime": {
     "end_time": "2024-08-01T16:23:01.530844Z",
     "start_time": "2024-08-01T16:23:01.527892Z"
    }
   },
   "cell_type": "code",
   "source": [
    "from langchain.chains.combine_documents import create_stuff_documents_chain\n",
    "\n",
    "docs_chain = create_stuff_documents_chain(llm, prompt)\n",
    "retriever = db.as_retriever()"
   ],
   "id": "a4af425c39f1f0d8",
   "outputs": [],
   "execution_count": 40
  },
  {
   "metadata": {
    "ExecuteTime": {
     "end_time": "2024-08-01T16:23:01.902980Z",
     "start_time": "2024-08-01T16:23:01.893724Z"
    }
   },
   "cell_type": "code",
   "source": [
    "from langchain.chains import create_history_aware_retriever, create_retrieval_chain\n",
    "from langchain.chains.combine_documents import create_stuff_documents_chain\n",
    "from langchain_community.chat_message_histories import ChatMessageHistory\n",
    "from langchain_core.chat_history import BaseChatMessageHistory\n",
    "from langchain_core.prompts import ChatPromptTemplate, MessagesPlaceholder\n",
    "from langchain_core.runnables.history import RunnableWithMessageHistory\n",
    "contextualize_q_system_prompt = (\n",
    "    \"Given a chat history and the latest user question \"\n",
    "    \"which might reference context in the chat history, \"\n",
    "    \"formulate a standalone question which can be understood \"\n",
    "    \"without the chat history. Do NOT answer the question, \"\n",
    "    \"just reformulate it if needed and otherwise return it as is.\"\n",
    ")\n",
    "contextualize_q_prompt = ChatPromptTemplate.from_messages(\n",
    "    [\n",
    "        (\"system\", contextualize_q_system_prompt),\n",
    "        MessagesPlaceholder(\"chat_history\"),\n",
    "        (\"human\", \"{input}\"),\n",
    "    ]\n",
    ")\n",
    "history_aware_retriever = create_history_aware_retriever(\n",
    "    llm, retriever, contextualize_q_prompt\n",
    ")\n",
    "\n",
    "\n",
    "### Answer question ###\n",
    "system_prompt = (\n",
    "    \"You are an assistant for question-answering tasks. \"\n",
    "    \"Use the following pieces of retrieved context to answer \"\n",
    "    \"the question. If you don't know the answer, say that you \"\n",
    "    \"don't know. Use three sentences maximum and keep the \"\n",
    "    \"answer concise.\"\n",
    "    \"\\n\\n\"\n",
    "    \"{context}\"\n",
    ")\n",
    "qa_prompt = ChatPromptTemplate.from_messages(\n",
    "    [\n",
    "        (\"system\", system_prompt),\n",
    "        MessagesPlaceholder(\"chat_history\"),\n",
    "        (\"human\", \"{input}\"),\n",
    "    ]\n",
    ")\n",
    "question_answer_chain = create_stuff_documents_chain(llm, qa_prompt)\n",
    "\n",
    "rag_chain = create_retrieval_chain(history_aware_retriever, question_answer_chain)\n",
    "\n",
    "\n",
    "### Statefully manage chat history ###\n",
    "store = {}\n",
    "\n",
    "\n",
    "def get_session_history(session_id: str) -> BaseChatMessageHistory:\n",
    "    if session_id not in store:\n",
    "        store[session_id] = ChatMessageHistory()\n",
    "    print((type(store[session_id])))\n",
    "    return store[session_id]\n",
    "\n",
    "\n",
    "conversational_rag_chain = RunnableWithMessageHistory(\n",
    "    rag_chain,\n",
    "    get_session_history,\n",
    "    input_messages_key=\"input\",\n",
    "    history_messages_key=\"chat_history\",\n",
    "    output_messages_key=\"answer\",\n",
    ")"
   ],
   "id": "cca287dd2d27c2d7",
   "outputs": [],
   "execution_count": 41
  },
  {
   "metadata": {
    "ExecuteTime": {
     "end_time": "2024-08-01T16:24:02.030921Z",
     "start_time": "2024-08-01T16:23:02.611670Z"
    }
   },
   "cell_type": "code",
   "source": [
    "response = conversational_rag_chain.invoke({\"input\": \"Best way to grow a business?\"},{\"configurable\":{\"session_id\": \"1\"}})\n",
    "print(response['answer'])"
   ],
   "id": "95ee5aa634c1b9d6",
   "outputs": [
    {
     "name": "stdout",
     "output_type": "stream",
     "text": [
      "<class 'langchain_core.chat_history.InMemoryChatMessageHistory'>\n",
      " As an artificial intelligence, I don't have personal experiences or opinions. However, based on the information provided and best practices in finance management theory as of my last update, here is what experts typically advise for growing a business effectively through capital structure decisions:\n",
      "\n",
      "1. **Understand Your Capital Structure** - Evaluate your current debt level compared to equity within the firm's balance sheet. This gives you an idea if taking on more debt could be risky or beneficial at this time. \n",
      "\n",
      "2. **Assess Cash Flow and Profitability Needs** – Determine whether additional capital is required for growth initiatives like expanding into new markets, upgrading technology, hiring staff, etc., which will help you decide if debt financing makes sense or if seeking equity investment might be a better route.\n",
      "\n",
      "3. **Maintain Balance Between Debt and Equity** - Aim for an optimal capital structure where the cost of borrowing is balanced with ownership dilution, typically not going beyond 50% debt to maintain financial stability without overly burdening cash flows due to interest payments or risk of default.\n",
      "\n",
      "4. **Credit Risk Analysis** – Understand and assess how much additional debt you can comfortably service based on future revenue projections, considering potential market volatility that could affect your business's ability to make regular loan repayments. \n",
      "\n",
      "5. **Explore Different Sources of Financing** - Besides traditional bank loans or bonds, consider alternative sources like venture capital for startups, private equity funds, government grants, crowdfunding platforms (if applicable), and even leasing equipment instead of outright purchases to keep cash on hand.\n",
      "\n",
      "6. **Ensure Accessibility** – Have a contingency plan in place if the business needs more capital than initially anticipated or market conditions change unfavorably, which could include emergency credit lines or reserves set aside from profits (like retained earnings).\n",
      "\n",
      "7. **Strategic Planning and Goals Alignment with Financing** – Ensure that any financial decisions align closely with your long-term strategic goals for the business's growth, such as entering new markets, product development pipelines or operational efficiencies to reduce costs over time.\n",
      "\n",
      "8. **Professional Advice and Expertise** - Work with a skilled accountant or financial advisor who understands your industry dynamics can provide valuable insights into managing debt levels effectively while capitalizing on opportunities for growth funding in an organized, strategic manner that keeps the business healthy.\n",
      "\n",
      "9. **Diverse Investment Portfolio** – Consider investments not just as short-term cash influx but also to generate passive income streams or assets which could potentially bring additional resources into your firm over time without direct impact on operations (e.g., real estate, equity holdings in companies).\n",
      "\n",
      "1enerating growth often involves balancing the immediate needs for capital with a sustainable path that doesn't compromise future financial stability and operational flexibility. It requires continuous evaluation of both internal performance metrics as well as external economic factors affecting your business sector to adapt strategies accordingly, always keeping in mind not just survival but setting up thriving foundations for long-term success.\n"
     ]
    }
   ],
   "execution_count": 42
  },
  {
   "metadata": {
    "ExecuteTime": {
     "end_time": "2024-08-01T16:26:30.234210Z",
     "start_time": "2024-08-01T16:25:22.205022Z"
    }
   },
   "cell_type": "code",
   "source": [
    "response = conversational_rag_chain.invoke({\"input\": \"what are some government schemes that can help me\"},{\"configurable\":{\"session_id\": \"1\"}})\n",
    "print(response['answer'])"
   ],
   "id": "5c1162466dbd814b",
   "outputs": [
    {
     "name": "stdout",
     "output_type": "stream",
     "text": [
      "<class 'langchain_core.chat_history.InMemoryChatMessageHistory'>\n",
      " Several governments around the world offer programs and financial assistance aimed at helping MSMEs grow by overcoming their financing hurdles among other challenges they face, like difficulties in procuring raw materials or protecting themselves from exploitative lending practices. While I don't have real-time updates on schemes outside my last knowledge update (March 2021), here are several types of government initiatives commonly available:\n",
      "\n",
      "**Financial Subsidies and Grants** - Some governments provide grants that can be used to finance business operations, especially for startups or small enterprises in specific sectors. Examples include technology development funds or rural innovation subsidies. The availability of such schemes often depends on the industry you're operating within and your country’s current economic focuses (e.g., green energy).\n",
      "\n",
      "**Tax Incentives and Credits** - Tax relief measures, including reduced tax rates for small business owners or investments in equipment that qualify as capital expenditures can help reduce overhead costs while also improving your company's assets base which could improve loan eligibility. \n",
      "\n",
      "**Low-Interest Loans and Microfinance Options** - Government entities may offer low-interest loans, subsidized interest rates for startups or smaller businesses with the potential to grow (also known as microcredit). These options are typically easier to obtain than traditional bank loans but still require thorough documentation of financial health.\n",
      "\n",
      "**Government Loan Schemes and Bonds** - Some countries have special loan schemes that provide more favorable terms for small businesses, such as lower interest rates or the possibility to secure a guarantee from the government itself if necessary (like in New Zealand's Microfinance loans program). \n",
      "\n",
      "**Wage Subsidies** - Governments may offer wage subsidies to encourage employment and growth within MSMEs, helping them afford additional staff for scaling operations. This could be particularly helpful when a company is looking to expand its workforce due to increased production or expansion into new markets.\n",
      "\n",
      "**Trade Finance Support** - For international trade-dependent businesses, governments may provide support in the form of letters of credit and guarantees from export promotion boards that can help secure payment for goods sold abroad when dealing with buyers who might not be financially strong enough to make timely payments.\n",
      "\n",
      "Before pursuing any government assistance programs, it's essential to thoroughly research each program’s eligibility requirements as they differ greatly among governments and over time due to changes in economic policies or priorities. Contact local trade organizations for updated information on what support is currently available near you. It may also be beneficial to consult with a business advisor familiar with the MSME landscape of your specific country, who can guide best practices based on current programs that have been successful within their jurisdiction.\n",
      "\n",
      "Remember always to comply strictly with all terms and conditions outlined in these schemes since failure to do so could result not only loss of eligibility but also legal ramifications for the business. Moreover, while government support is valuable, it's crucial not solely rely on them; a diversified approach combining multiple sources along with prudent financial management should be part of your growth strategy.\n"
     ]
    }
   ],
   "execution_count": 43
  },
  {
   "metadata": {
    "ExecuteTime": {
     "end_time": "2024-08-01T16:27:30.538725Z",
     "start_time": "2024-08-01T16:27:30.532476Z"
    }
   },
   "cell_type": "code",
   "source": "print(response['context'])",
   "id": "e47b6d8803ac585b",
   "outputs": [
    {
     "name": "stdout",
     "output_type": "stream",
     "text": [
      "[Document(metadata={'source': '/Users/harsh_dadwal/Harsh/coding/Hack4skill/Govt_policy_RAG/data/kebs109.pdf', 'page': 15}, page_content='213\\nMSME AND BUSINESS ENTREPRENEURSHIP\\nRole of small business in rural India: Small business units provide multiple \\nsource of income, in wide range of non-agricultural activities and provide employment opportunities in rural areas, especially for the traditional artisan and weaker sections of the society.\\nEntrepreneur:  The terms ‘entrepreneur,’ ‘entrepreneurship’ and ‘enterprises’ \\ncan be understood by drawing an analogy with the structure of a sentence in \\nEnglish language. Entrepreneur is the person (the subject), entrepreneurship is the process (the verb) and enterprise is the creation of the person and the output of the process (the object).\\nEXERCISES\\nVery Short Answer Questions\\n1. Which year the MSMED Act passed?\\n2. What is the micro enterprise.\\n3. What is a cottage industry?\\n4. What is meant by Village and Khadi Industry?\\n5. Give any two characteristics of entrepreneurship development.\\nShort Answer Questions\\n1. What is MSME?\\n2. State the meaning of entrepreneurship?\\n3. MSME and Entrepreneurship are connected. Do you agree. Give two \\nreasons. \\n4. State the role of MSME in development of a country? \\n5. What are the different parameters used to measure the size of MSME?\\n6. State the meaning of Village and Khadi industries?\\n7. State any three major problems faced by MSMEs? \\nLong Answer Questions\\n1. How do small scale industries contribute to the socio-economic development of india? Discuss\\n2. Describe the role of small business in rural India.\\n3. Discuss the problems faced by small scale industries.\\n4. What\\tmeasures \\thas\\tthe\\tgovernment \\ttaken\\tto\\tsolve\\tthe\\tproblem \\tof\\tfinance\\t\\nand marketing in the small scale sector?\\n5. ‘Innovation is integral to MSME’. Discuss giving reasons to your answer. \\n6. ‘Creativity and Innovation is the key to MSME’. Justify the statement. \\nChapter 9.indd   213 9/2/2022   2:20:50 PM\\n2024-25'), Document(metadata={'source': '/Users/harsh_dadwal/Harsh/coding/Hack4skill/Govt_policy_RAG/data/kebs109.pdf', 'page': 3}, page_content='201\\nMSME AND BUSINESS ENTREPRENEURSHIP\\nVillage Industries\\nVillage\\tindustry \\thas\\tbeen\\tdefined\\tas\\tany\\tindustry \\tlocated\\tin\\ta\\trural\\tarea\\twhich\\t\\nproduces any goods, renders any service with or without the use of power and in \\nwhich\\tthe\\tfixed\\tcapital\\tinvestment \\tper\\thead\\tor\\tartisan\\tor\\tworker\\tis\\tspecified \\tby\\t\\nthe central government, from time to time.\\nCottage IndustriesCottage industries are also known as rural industries or traditional industries. \\nThey\\tare\\tnot\\tdefined\\tby\\tcapital\\tinvestment \\tcriteria\\tas\\tin\\tthe\\tcase\\tof\\tother\\tsmall\\t\\nscale industries.Type of UnitsInvestment in Plant \\nand MachineryTurnover\\nMicro Enterprises 1 Crore Does not exceed 5 crore\\nSmall Enterprises 10 Crore Does not exceed 50 crore\\nMedium Enterprises 50 Crore Does not exceed 250 core\\n% share of MSMES in\\nMicro Enterprises 99.4%\\nSmall Enterprises 0.52%\\nMedium Enterprises 0.1%\\nThe emergence of a large service \\nsector has necessitated the government \\nto include other enterprises covering both Small Scale Industries (SSI) sector and related service entities under the same umbrella. Expansion of the small enterprises was taking place growing into medium enterprises and they were required to adopt higher levels of technologies in order to remain competitive in a fast globalising world. Thus, it was necessary to address the concerns of such enterprises as micro, small and medium and provide them with a single legal framework. The MSMED Act, 2006 came into force w.e.f., October, 2006. The Micro, Small and Medium Enterprises Development (MSMED) Act, 2006 addressed these issues relating to its definition, credit, marketing and technology up gradation. Medium scale enterprises and service related enterprises also come under the purview of this Act. \\nChapter 9.indd   201 9/2/2022   2:20:50 PM\\n2024-25'), Document(metadata={'source': '/Users/harsh_dadwal/Harsh/coding/Hack4skill/Govt_policy_RAG/data/keec102.pdf', 'page': 13}, page_content='29 INDIAN ECONOMY 1950 -1990investment in industrial ventures\\nrequired for the development of Indian\\neconomy; nor was the market big\\nenough to encourage industrialists to\\nundertake major projects even if they\\nhad the capital to do so. It is principally\\nfor these reasons that the erstwhile\\ngovernments had to play an extensive\\nrole in promoting the industrial sector.\\nIn addition, the decision to develop the\\nIndian economy on socialist lines led\\nto the policy of the government\\ncontrolling the commanding heights of\\nthe economy, as the Second Five  Year\\nplan put it. This meant that the\\ngovernment would have complete\\ncontrol of those industries that were\\nvital for the economy. The policies of the\\nprivate sector would have to be\\ncomplimentary to those of the public\\nsector, with the public sector leading\\nthe way.\\nIndus trial Policy Resolution 1956\\n(IPR 1956):  In accordance with the\\ngoal of the state controlling the\\ncommanding heights of the economy,\\nthe Industrial Policy Resolution of\\n1956 was adopted. This resolution\\nformed the basis of the Second Five\\nYear Plan, the plan which tried to\\nbuild the basis for a socialist pattern\\nof society. This resolution classified\\nindustries into three categories. The\\nfirst category comprised industries\\nwhich would be exclusively owned by\\nthe government ; the second category\\nconsisted of industries in which the\\nprivate sector could supplement the\\nefforts of the public sector, with the\\ngovernment taking the sole\\nresponsibility for starting new units;\\nthe third category consisted of the\\nremaining industries which were to\\nbe in the p rivate sector.Although there was a category of\\nindustries left to the private sector,\\nthe sector was kept under state\\ncontrol through a system of licenses.\\nNo new industry was allowed unless\\na license was obtained from the\\ngovernment. This policy was used for\\npromoting industry in backward\\nregions ; it was easier to obtain a\\nlicense if the industrial unit was\\nestablished in an economically\\nbackward area. In addition, such\\nunits were given certain concessions\\nsuch as tax benefits and electricity\\nat a lower tariff. The purpose of this\\npolicy was to promote regional\\nequality .\\nEven an existing industry had to\\nobtain a license for expanding\\noutput or for diversifying production\\n(producing a new variety of goods).\\nThis was meant  to ensure that the\\nquantity of goods produced was not\\nmore than what the economy\\nrequired. License to expand\\nproduction was given only if the\\ngovernment was convinced that the\\neconomy required a larger quantit y\\nof goods.\\nSmall -Scale Industry:  In 1955, the\\nVillage and Small- Scale Industries\\nCommittee, also called the Karve\\nCommittee, noted the possibility of\\nusing small-scale industries for\\npromoting rural development. A\\n‘small -scale industry’ is defined with\\nreference to the  maximum invest -\\nment allowed on the assets of a unit.\\nThis limit has changed over a period\\nof time.  In 1950 a small -scale\\nindustrial unit was one which invested\\n2024-25'), Document(metadata={'source': '/Users/harsh_dadwal/Harsh/coding/Hack4skill/Govt_policy_RAG/data/kebs109.pdf', 'page': 5}, page_content='203\\nMSME AND BUSINESS ENTREPRENEURSHIP\\n (v) MSME provide ample opportunity \\nfor entrepreneurship. The latent \\nskills and talents of people can be channelled into business ideas which can be converted into reality with little capital investment and almost nil formalities to start a small business.\\n (vi) MSME also enjoy the advantage \\nof low cost of production. Locally available resources are less expensive. Establishment and running costs of small industries are on the lower side because of low overhead expenses. Infact, the low cost of production which small industries enjoy is their competitive strength.\\n (vii) Due to the small size of the \\norganisations, quick and timely decisions can be taken without consulting many people as it happens in large sized organisations. New business opportunities can be captured at the right time.\\n9.5 proBlEMS aSSociat Ed With MSME\\nThe potential of MSME is often not realised fully, because of several problems related to size and operations. We shall now examine some of the major problems that small businesses whether in urban or in rural areas are encountering in their day-to-day functioning.\\nMSMEs are at a distinct  \\ndisadvantage as compared to largescale industries. The scale of operations, \\navailability \\tof\\tfinance, \\tability\\tto\\tuse\\tmodern technology, procurement of \\nraw materials are some of these areas. This gives rise to several problems.\\nThe problems majorly include \\nremote location with less developed infrastructural facilities, lack of managerial talent, poor quality, traditional technology and inadequate \\navailability \\tof\\tfinance. \\tThe\\tproblems \\t\\nof exporting small scale units include lack of adequate data on foreign markets, lack of market intelligence, \\nexchange \\trate\\tfluctuations, \\tquality\\t\\nstandards, \\tand\\tpre-shipment \\tfinance. \\t\\nIn general the small businesses are faced with the following problems:\\n(i) Finance: One of the severe \\nproblems faced by MSME is that of \\nnon-availability \\tof\\tadequate \\tfinance\\t\\nto carry out its operations. Generally \\nthese businesses begin with a small capital base. Many of the units in the small sector lack the credit worthiness required to raise as capital from the capital markets. As a result, they heavily depend on local financial resources and are frequently the victims of exploitation by the money lenders. These units frequently suffer from lack of adequate working capital, either due to delayed payment of dues to them or locking up of their capital in unsold stocks. Banks also do not lend money without adequate collateral security or guarantees and margin money, which many of them are not in a position to provide.\\n(ii) Raw materials:  Another major \\nproblem of MSME is the procurement \\nof raw materials. If the required \\nChapter 9.indd   203 9/2/2022   2:20:50 PM\\n2024-25')]\n"
     ]
    }
   ],
   "execution_count": 44
  },
  {
   "metadata": {},
   "cell_type": "code",
   "outputs": [],
   "execution_count": null,
   "source": "",
   "id": "fb87ff4af848bd24"
  }
 ],
 "metadata": {
  "kernelspec": {
   "display_name": "Python 3",
   "language": "python",
   "name": "python3"
  },
  "language_info": {
   "codemirror_mode": {
    "name": "ipython",
    "version": 2
   },
   "file_extension": ".py",
   "mimetype": "text/x-python",
   "name": "python",
   "nbconvert_exporter": "python",
   "pygments_lexer": "ipython2",
   "version": "2.7.6"
  }
 },
 "nbformat": 4,
 "nbformat_minor": 5
}
